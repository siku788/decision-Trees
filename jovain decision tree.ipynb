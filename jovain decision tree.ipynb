{
 "cells": [
  {
   "cell_type": "code",
   "execution_count": 3,
   "id": "6c8a0486-c441-436b-a221-a124d0d87207",
   "metadata": {},
   "outputs": [
    {
     "name": "stderr",
     "output_type": "stream",
     "text": [
      "WARNING: Retrying (Retry(total=4, connect=None, read=None, redirect=None, status=None)) after connection broken by 'NewConnectionError('<pip._vendor.urllib3.connection.HTTPSConnection object at 0x00000227035CF150>: Failed to establish a new connection: [Errno 11001] getaddrinfo failed')': /simple/pandas-profiling/\n",
      "WARNING: Retrying (Retry(total=3, connect=None, read=None, redirect=None, status=None)) after connection broken by 'NewConnectionError('<pip._vendor.urllib3.connection.HTTPSConnection object at 0x0000022706C3BCD0>: Failed to establish a new connection: [Errno 11001] getaddrinfo failed')': /simple/pandas-profiling/\n",
      "WARNING: Retrying (Retry(total=2, connect=None, read=None, redirect=None, status=None)) after connection broken by 'NewConnectionError('<pip._vendor.urllib3.connection.HTTPSConnection object at 0x0000022706DE7350>: Failed to establish a new connection: [Errno 11001] getaddrinfo failed')': /simple/pandas-profiling/\n",
      "WARNING: Retrying (Retry(total=1, connect=None, read=None, redirect=None, status=None)) after connection broken by 'NewConnectionError('<pip._vendor.urllib3.connection.HTTPSConnection object at 0x0000022706DE7FD0>: Failed to establish a new connection: [Errno 11001] getaddrinfo failed')': /simple/pandas-profiling/\n",
      "WARNING: Retrying (Retry(total=0, connect=None, read=None, redirect=None, status=None)) after connection broken by 'NewConnectionError('<pip._vendor.urllib3.connection.HTTPSConnection object at 0x0000022706DCC950>: Failed to establish a new connection: [Errno 11001] getaddrinfo failed')': /simple/pandas-profiling/\n",
      "ERROR: Could not find a version that satisfies the requirement pandas-profiling (from versions: none)\n",
      "ERROR: No matching distribution found for pandas-profiling\n"
     ]
    }
   ],
   "source": [
    "#restart the kernel after installation\n",
    "!pip install pandas-profiling numpy matplotlib seaborn --quiet\n"
   ]
  },
  {
   "cell_type": "code",
   "execution_count": 4,
   "id": "93f121f9-db85-49fc-9df6-b0fe8f71fc2a",
   "metadata": {},
   "outputs": [
    {
     "name": "stderr",
     "output_type": "stream",
     "text": [
      "WARNING: Retrying (Retry(total=4, connect=None, read=None, redirect=None, status=None)) after connection broken by 'NewConnectionError('<pip._vendor.urllib3.connection.HTTPSConnection object at 0x0000020AF8691E50>: Failed to establish a new connection: [Errno 11001] getaddrinfo failed')': /simple/opendatasets/\n",
      "WARNING: Retrying (Retry(total=3, connect=None, read=None, redirect=None, status=None)) after connection broken by 'NewConnectionError('<pip._vendor.urllib3.connection.HTTPSConnection object at 0x0000020AF8692810>: Failed to establish a new connection: [Errno 11001] getaddrinfo failed')': /simple/opendatasets/\n",
      "WARNING: Retrying (Retry(total=2, connect=None, read=None, redirect=None, status=None)) after connection broken by 'NewConnectionError('<pip._vendor.urllib3.connection.HTTPSConnection object at 0x0000020AF86932D0>: Failed to establish a new connection: [Errno 11001] getaddrinfo failed')': /simple/opendatasets/\n",
      "WARNING: Retrying (Retry(total=1, connect=None, read=None, redirect=None, status=None)) after connection broken by 'NewConnectionError('<pip._vendor.urllib3.connection.HTTPSConnection object at 0x0000020AF8693C90>: Failed to establish a new connection: [Errno 11001] getaddrinfo failed')': /simple/opendatasets/\n"
     ]
    }
   ],
   "source": [
    "!pip install opendatasets scikit-learn jovian --quiet --upgrade"
   ]
  },
  {
   "cell_type": "code",
   "execution_count": null,
   "id": "ecc3e94a-b898-4349-8266-0a69ce378bf2",
   "metadata": {},
   "outputs": [],
   "source": []
  }
 ],
 "metadata": {
  "kernelspec": {
   "display_name": "Python 3 (ipykernel)",
   "language": "python",
   "name": "python3"
  },
  "language_info": {
   "codemirror_mode": {
    "name": "ipython",
    "version": 3
   },
   "file_extension": ".py",
   "mimetype": "text/x-python",
   "name": "python",
   "nbconvert_exporter": "python",
   "pygments_lexer": "ipython3",
   "version": "3.11.7"
  }
 },
 "nbformat": 4,
 "nbformat_minor": 5
}
